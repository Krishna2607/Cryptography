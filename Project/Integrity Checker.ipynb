{
 "cells": [
  {
   "cell_type": "code",
   "execution_count": 1,
   "metadata": {},
   "outputs": [
    {
     "name": "stdout",
     "output_type": "stream",
     "text": [
      "Enter your message: hi\n",
      "Enter encryption password: etet\n",
      "Yes, All the CIA traids have been acheived\n"
     ]
    }
   ],
   "source": [
    "#Importing libraries\n",
    "from Crypto.PublicKey import RSA\n",
    "import hashlib\n",
    "import binascii\n",
    "import base64\n",
    "from Crypto.Cipher import AES\n",
    "from Crypto import Random\n",
    "from hashlib import sha512\n",
    "\n",
    "\n",
    "s=input(\"Enter your message: \")\n",
    "st=s\n",
    "res = bytes(s, 'utf-8') \n",
    "hash = int.from_bytes(sha512(res).digest(), byteorder='big')\n",
    "l=len(st)\n",
    "keys=RSA.generate(bits=1024)\n",
    "C=pow(hash,keys.d,keys.n)\n",
    "\n",
    "BLOCK_SIZE = 16\n",
    "pad = lambda s: s + (BLOCK_SIZE - len(s) % BLOCK_SIZE) * chr(BLOCK_SIZE - len(s) % BLOCK_SIZE)\n",
    "unpad = lambda s: s[:-ord(s[len(s) - 1:])] \n",
    "\n",
    "password = input(\"Enter encryption password: \") \n",
    "def encrypt(raw, password):\n",
    "    private_key = hashlib.sha256(password.encode(\"utf-8\")).digest()\n",
    "    raw = pad(raw)\n",
    "    iv = Random.new().read(AES.block_size)\n",
    "    cipher = AES.new(private_key, AES.MODE_CBC, iv)\n",
    "    return base64.b64encode(iv + cipher.encrypt(raw))\n",
    "\n",
    "# First let us AES encrypt secret message\n",
    "plaintext = st+str(C)\n",
    "encrypted = encrypt(plaintext, password)\n",
    "\n",
    "#The code until this line is used to encrypt the message\n",
    "#From here on the decryption starts\n",
    "#The output from the encrypt function is sent into decrypt function\n",
    "\n",
    "def decrypt(enc, password):\n",
    "    private_key = hashlib.sha256(password.encode(\"utf-8\")).digest()\n",
    "    enc = base64.b64decode(enc)\n",
    "    iv = enc[:16]\n",
    "    cipher = AES.new(private_key, AES.MODE_CBC, iv)\n",
    "    return unpad(cipher.decrypt(enc[16:])) \n",
    "\n",
    "# Let us AES decrypt using our original password\n",
    "decrypted = decrypt(encrypted, password)\n",
    "temp1=decrypted[:l]\n",
    "hash1 = int.from_bytes(sha512(temp1).digest(), byteorder='big')\n",
    "temp2=decrypted[l:]\n",
    "D=pow(int(temp2),keys.e,keys.n)\n",
    "\n",
    "if(D==hash1):\n",
    "    print('Yes, All the CIA traids have been acheived')\n",
    "else:\n",
    "    print('No, Your message was not delivered safely')"
   ]
  }
 ],
 "metadata": {
  "kernelspec": {
   "display_name": "Python 3",
   "language": "python",
   "name": "python3"
  },
  "language_info": {
   "codemirror_mode": {
    "name": "ipython",
    "version": 3
   },
   "file_extension": ".py",
   "mimetype": "text/x-python",
   "name": "python",
   "nbconvert_exporter": "python",
   "pygments_lexer": "ipython3",
   "version": "3.6.10"
  }
 },
 "nbformat": 4,
 "nbformat_minor": 4
}
