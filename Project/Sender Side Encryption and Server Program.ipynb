{
 "cells": [
  {
   "cell_type": "code",
   "execution_count": 1,
   "metadata": {},
   "outputs": [
    {
     "name": "stdout",
     "output_type": "stream",
     "text": [
      "Enter your message: hi\n",
      "Enter encryption password: etet\n",
      "YOUR HOSTNAME IS :   LAPTOP-IT1BSU42\n",
      " \n",
      "YOUR IP ADDRESS IS :  192.168.154.1\n",
      " \n",
      "PLEASE ENTER THE PORT NUMBER\n",
      "1234\n"
     ]
    }
   ],
   "source": [
    "from Crypto.PublicKey import RSA\n",
    "import hashlib\n",
    "import binascii\n",
    "import base64\n",
    "from Crypto.Cipher import AES\n",
    "from Crypto import Random\n",
    "from hashlib import sha512\n",
    "import socket\n",
    "\n",
    "\n",
    "s=input(\"Enter your message: \")\n",
    "st=s\n",
    "res = bytes(s, 'utf-8') \n",
    "hash = int.from_bytes(sha512(res).digest(), byteorder='big')\n",
    "l=len(st)\n",
    "keys=RSA.generate(bits=1024)\n",
    "C=pow(hash,keys.d,keys.n)\n",
    "BLOCK_SIZE = 16\n",
    "pad = lambda s: s + (BLOCK_SIZE - len(s) % BLOCK_SIZE) * chr(BLOCK_SIZE - len(s) % BLOCK_SIZE)\n",
    "unpad = lambda s: s[:-ord(s[len(s) - 1:])]\n",
    "password = input(\"Enter encryption password: \")\n",
    "def encrypt(raw, password):\n",
    "    private_key = hashlib.sha256(password.encode(\"utf-8\")).digest()\n",
    "    raw = pad(raw)\n",
    "    iv = Random.new().read(AES.block_size)\n",
    "    cipher = AES.new(private_key, AES.MODE_CBC, iv)\n",
    "    return base64.b64encode(iv + cipher.encrypt(raw))\n",
    "\n",
    "# First let us AES encrypt secret message\n",
    "plaintext = st+str(C)\n",
    "encrypted = encrypt(plaintext, password)\n",
    "\n",
    "\n",
    "def get_hostname_IP(): #function that returns your host name and ip address\n",
    "    try: \n",
    "        host_name = socket.gethostname() \n",
    "        host_ip = socket.gethostbyname(host_name) \n",
    "        print(\"YOUR HOSTNAME IS :  \",host_name) \n",
    "        print(\" \")\n",
    "        print(\"YOUR IP ADDRESS IS : \",host_ip) \n",
    "    except: \n",
    "        print(\"Unable to get Hostname and IP ADDRESS\") \n",
    "  \n",
    "\n",
    "get_hostname_IP()  #calling that function to know the host name and ip address\n",
    "\n",
    "print(\" \")\n",
    "print(\"PLEASE ENTER THE PORT NUMBER\")   #asking for port number \n",
    "port = int(input())                     # and storing in \"port\"\n",
    "\n",
    "host_name = socket.gethostname() #stores the host name in the \"host_name\" \n",
    "\n",
    "s = socket.socket(socket.AF_INET, socket.SOCK_STREAM) # these are the socket family type \n",
    "                                                      #AF_INET correesponds to ipv 4 & SOCK_STREAM correesponds to tcp socket so this will be streaming socket\n",
    "\n",
    "s.bind((host_name, port))   #binding those sockets\n",
    "                            # gethostname() returns host name nothing but local host\n",
    "\n",
    "s.listen(5)      #this is our server \n",
    "\n",
    "\n",
    "clientsocket, address = s.accept()\t#accepting all the sockets\n",
    "\n",
    "a = str(encrypted)\n",
    "clientsocket.send(bytes(a, \"utf-8\"))\n",
    "\n",
    "s.close()"
   ]
  }
 ],
 "metadata": {
  "kernelspec": {
   "display_name": "Python 3",
   "language": "python",
   "name": "python3"
  },
  "language_info": {
   "codemirror_mode": {
    "name": "ipython",
    "version": 3
   },
   "file_extension": ".py",
   "mimetype": "text/x-python",
   "name": "python",
   "nbconvert_exporter": "python",
   "pygments_lexer": "ipython3",
   "version": "3.6.10"
  }
 },
 "nbformat": 4,
 "nbformat_minor": 4
}
